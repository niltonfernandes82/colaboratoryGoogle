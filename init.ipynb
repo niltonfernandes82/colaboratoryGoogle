{
  "nbformat": 4,
  "nbformat_minor": 0,
  "metadata": {
    "colab": {
      "name": "init.ipynb",
      "version": "0.3.2",
      "provenance": [],
      "include_colab_link": true
    }
  },
  "cells": [
    {
      "cell_type": "markdown",
      "metadata": {
        "id": "view-in-github",
        "colab_type": "text"
      },
      "source": [
        "[View in Colaboratory](https://colab.research.google.com/github/niltonfernandes82/colaboratoryGoogle/blob/master/init.ipynb)"
      ]
    },
    {
      "metadata": {
        "id": "zfElwq7WbMIY",
        "colab_type": "text"
      },
      "cell_type": "markdown",
      "source": [
        "# title 1 \n",
        "## title 2 "
      ]
    },
    {
      "metadata": {
        "id": "ps3PV3-qbFrU",
        "colab_type": "code",
        "colab": {
          "base_uri": "https://localhost:8080/",
          "height": 34
        },
        "outputId": "e3d1df56-3366-4f20-df55-dafff64d6270"
      },
      "cell_type": "code",
      "source": [
        "print(\"Hello world\")"
      ],
      "execution_count": 1,
      "outputs": [
        {
          "output_type": "stream",
          "text": [
            "Hello world\n"
          ],
          "name": "stdout"
        }
      ]
    },
    {
      "metadata": {
        "id": "zLhTnGRTbLyX",
        "colab_type": "code",
        "colab": {
          "base_uri": "https://localhost:8080/",
          "height": 122
        },
        "outputId": "e1e3144f-440d-46aa-9cfb-ac4687a6b641"
      },
      "cell_type": "code",
      "source": [
        "import requests\n",
        "import pprint\n",
        "\n",
        "# Assign URL to variable: url\n",
        "url = 'https://en.wikipedia.org/w/api.php?action=parse&prop=wikitext&format=json&page=norway&section=7'\n",
        "\n",
        "# Package the request, send the request and catch the response: r\n",
        "r = requests.get(url)\n",
        "\n",
        "# Decode the JSON data into a dictionary: json_data\n",
        "json_data = r.json()\n",
        "pprint.pprint(json_data)\n",
        "\n",
        "# Print the Wikipedia page text\n",
        "norway_text = json_data['parse']['wikitext']\n",
        "pprint.pprint(norway_text)\n",
        "\n",
        "\n",
        "\n",
        "print(\"nilton is the best\")"
      ],
      "execution_count": 2,
      "outputs": [
        {
          "output_type": "stream",
          "text": [
            "{u'parse': {u'pageid': 21241,\n",
            "            u'title': u'Norway',\n",
            "            u'wikitext': {u'*': u\"=== Viking Age ===\\n{{Main|Viking Age}}\\n{{See also|Unification of Norway|Hereditary Kingdom of Norway}}\\n[[File:Le bateau viking dOseberg (4835828216).jpg|thumb|upright|The [[Oseberg ship]] at the [[Viking Ship Museum (Oslo)|Viking Ship Museum]] in Oslo, Norway]]\\n[[File:Gjermundbu helmet - cropped.jpg|thumb|left|upright=0.7|The [[Gjermundbu helmet]] found in [[Buskerud]] is the only known reconstructable [[Viking Age]] helmet]]\\nFrom the 8th to the 10th century, the wider Scandinavian region was the source of [[Viking]]s. The looting of the monastery at [[Lindisfarne]] in Northeast England in 793 by [[North Germanic peoples|Norse people]] has long been regarded as the event which marked the beginning of the [[Viking Age]].<ref>{{cite web |url=http://loststory.net/node/91 |title=Age of the vikings |publisher=loststory|accessdate=17 February 2015}}</ref> This age was characterised by expansion and emigration by Viking [[seafarer]]s. They [[colonise]]d, raided, and traded in all parts of Europe. Norwegian Viking explorers first discovered [[Iceland]] by accident in the 9th century when heading for the [[Faroe Islands]], and eventually came across [[Vinland]], known today as [[Newfoundland (island)|Newfoundland]], in Canada. The Vikings from Norway were most active in the northern and western [[British Isles]] and eastern North America isles.<ref>{{cite web|url=https://naturalhistory.si.edu/vikings/voyage/subset/vinland/archeo.html|title=Vinland Archeology|website=naturalhistory.si.edu|access-date=11 April 2017}}</ref>\\n\\nAccording to tradition, [[Harald Fairhair]] unified them into one in 872 after the [[Battle of Hafrsfjord]] in [[Stavanger]], thus becoming the first king of a united Norway.<ref>[[#Larsen|Larsen]], p. 83.</ref> Harald's realm was mainly a South Norwegian coastal state. Fairhair ruled with a strong hand and according to the sagas, many Norwegians left the country to live in Iceland, the [[Faroe Islands]], [[Greenland]], and parts of [[Great Britain|Britain]] and Ireland. The modern-day Irish cities of [[Dublin]], [[Limerick]] and [[Waterford]] were founded by Norwegian settlers.<ref>[[R. F. Foster (historian)|Foster, R. F.]] (2001) ''The Oxford History of Ireland''. Oxford University Press. {{ISBN|0-19-280202-X}}</ref>\\n[[File:Z\\xfcge, Landnahmen und Siedlungsgebiete der Nordm\\xe4nner - 800-1050.png|thumb|upright=1.2|Norwegian, Danish and Swedish expansion during the Viking age between 800\\u20131050]]\\n[[Norse mythology|Norse traditions]] were slowly replaced by [[Christian mythology|Christian ones]] in the late 10th and early 11th centuries. One of the most important sources for the history of the 11th century Vikings is the treaty between the Icelanders and Olaf Haraldsson, king of Norway circa 1015 to 1028.<ref>Jones, Gwyn, A history of the Vikings (Oxford 2001).</ref> This is largely attributed to the missionary kings [[Olaf I of Norway|Olav Tryggvasson]] and [[Olaf II of Norway|St. Olav]]. [[Haakon I of Norway|Haakon the Good]] was Norway's first Christian king, in the mid-10th century, though his attempt to introduce the religion was rejected. Born sometime in between 963\\u2013969, Olav Tryggvasson set off raiding in England with 390 ships. He attacked London during this raiding. Arriving back in Norway in 995, Olav landed in [[Moster (island)|Moster]]. There he built a church which became the first [[Old Moster Church|Christian church]] ever built in Norway. From Moster, Olav sailed north to [[Trondheim]] where he was proclaimed King of Norway by the Eyrathing in 995.<ref>[[#Larsen|Larsen]], p. 95.</ref>\\n\\n[[Feudalism]] never really developed in Norway or Sweden, as it did in the rest of Europe. However, the administration of government took on a very conservative feudal character. The [[Hanseatic League]] forced the royalty to cede to them greater and greater concessions over foreign trade and the economy. The League had this hold over the royalty because of the loans the Hansa had made to the royalty and the large debt the kings were carrying. The League's monopolistic control over the economy of Norway put pressure on all classes, especially the peasantry, to the degree that no real [[burgher (title)|burgher]] class existed in Norway.<ref>[[#Larsen|Larsen]], p. 201.</ref>\"}}}\n",
            "{u'*': u\"=== Viking Age ===\\n{{Main|Viking Age}}\\n{{See also|Unification of Norway|Hereditary Kingdom of Norway}}\\n[[File:Le bateau viking dOseberg (4835828216).jpg|thumb|upright|The [[Oseberg ship]] at the [[Viking Ship Museum (Oslo)|Viking Ship Museum]] in Oslo, Norway]]\\n[[File:Gjermundbu helmet - cropped.jpg|thumb|left|upright=0.7|The [[Gjermundbu helmet]] found in [[Buskerud]] is the only known reconstructable [[Viking Age]] helmet]]\\nFrom the 8th to the 10th century, the wider Scandinavian region was the source of [[Viking]]s. The looting of the monastery at [[Lindisfarne]] in Northeast England in 793 by [[North Germanic peoples|Norse people]] has long been regarded as the event which marked the beginning of the [[Viking Age]].<ref>{{cite web |url=http://loststory.net/node/91 |title=Age of the vikings |publisher=loststory|accessdate=17 February 2015}}</ref> This age was characterised by expansion and emigration by Viking [[seafarer]]s. They [[colonise]]d, raided, and traded in all parts of Europe. Norwegian Viking explorers first discovered [[Iceland]] by accident in the 9th century when heading for the [[Faroe Islands]], and eventually came across [[Vinland]], known today as [[Newfoundland (island)|Newfoundland]], in Canada. The Vikings from Norway were most active in the northern and western [[British Isles]] and eastern North America isles.<ref>{{cite web|url=https://naturalhistory.si.edu/vikings/voyage/subset/vinland/archeo.html|title=Vinland Archeology|website=naturalhistory.si.edu|access-date=11 April 2017}}</ref>\\n\\nAccording to tradition, [[Harald Fairhair]] unified them into one in 872 after the [[Battle of Hafrsfjord]] in [[Stavanger]], thus becoming the first king of a united Norway.<ref>[[#Larsen|Larsen]], p. 83.</ref> Harald's realm was mainly a South Norwegian coastal state. Fairhair ruled with a strong hand and according to the sagas, many Norwegians left the country to live in Iceland, the [[Faroe Islands]], [[Greenland]], and parts of [[Great Britain|Britain]] and Ireland. The modern-day Irish cities of [[Dublin]], [[Limerick]] and [[Waterford]] were founded by Norwegian settlers.<ref>[[R. F. Foster (historian)|Foster, R. F.]] (2001) ''The Oxford History of Ireland''. Oxford University Press. {{ISBN|0-19-280202-X}}</ref>\\n[[File:Z\\xfcge, Landnahmen und Siedlungsgebiete der Nordm\\xe4nner - 800-1050.png|thumb|upright=1.2|Norwegian, Danish and Swedish expansion during the Viking age between 800\\u20131050]]\\n[[Norse mythology|Norse traditions]] were slowly replaced by [[Christian mythology|Christian ones]] in the late 10th and early 11th centuries. One of the most important sources for the history of the 11th century Vikings is the treaty between the Icelanders and Olaf Haraldsson, king of Norway circa 1015 to 1028.<ref>Jones, Gwyn, A history of the Vikings (Oxford 2001).</ref> This is largely attributed to the missionary kings [[Olaf I of Norway|Olav Tryggvasson]] and [[Olaf II of Norway|St. Olav]]. [[Haakon I of Norway|Haakon the Good]] was Norway's first Christian king, in the mid-10th century, though his attempt to introduce the religion was rejected. Born sometime in between 963\\u2013969, Olav Tryggvasson set off raiding in England with 390 ships. He attacked London during this raiding. Arriving back in Norway in 995, Olav landed in [[Moster (island)|Moster]]. There he built a church which became the first [[Old Moster Church|Christian church]] ever built in Norway. From Moster, Olav sailed north to [[Trondheim]] where he was proclaimed King of Norway by the Eyrathing in 995.<ref>[[#Larsen|Larsen]], p. 95.</ref>\\n\\n[[Feudalism]] never really developed in Norway or Sweden, as it did in the rest of Europe. However, the administration of government took on a very conservative feudal character. The [[Hanseatic League]] forced the royalty to cede to them greater and greater concessions over foreign trade and the economy. The League had this hold over the royalty because of the loans the Hansa had made to the royalty and the large debt the kings were carrying. The League's monopolistic control over the economy of Norway put pressure on all classes, especially the peasantry, to the degree that no real [[burgher (title)|burgher]] class existed in Norway.<ref>[[#Larsen|Larsen]], p. 201.</ref>\"}\n",
            "nilton is the best\n"
          ],
          "name": "stdout"
        }
      ]
    },
    {
      "metadata": {
        "id": "OKC66-KKbcG4",
        "colab_type": "code",
        "colab": {}
      },
      "cell_type": "code",
      "source": [
        "\n",
        "\n",
        "\n"
      ],
      "execution_count": 0,
      "outputs": []
    }
  ]
}